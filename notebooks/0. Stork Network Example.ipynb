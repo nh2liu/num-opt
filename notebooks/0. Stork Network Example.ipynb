{
 "cells": [
  {
   "cell_type": "code",
   "execution_count": 1,
   "metadata": {},
   "outputs": [],
   "source": [
    "import numpy as np\n",
    "import matplotlib.pyplot as plt\n",
    "\n",
    "from num_opt.stork import Sequential\n",
    "from num_opt.stork.op import Linear, Leakyrelu, Softmax\n",
    "from num_opt.stork.loss import CrossEntropyLoss\n",
    "from num_opt.stork.optim import Adam\n",
    "\n",
    "from tqdm.notebook import tqdm"
   ]
  },
  {
   "cell_type": "code",
   "execution_count": 2,
   "metadata": {},
   "outputs": [],
   "source": [
    "# Loading mnist data.\n",
    "import tensorflow as tf\n",
    "\n",
    "train_data, test_data = tf.keras.datasets.mnist.load_data()\n",
    "X_train, y_train = train_data\n",
    "X_test, y_test = test_data\n",
    "\n",
    "X_train_t = X_train.reshape(-1, 784) / 255.\n",
    "X_test_t = X_test.reshape(-1, 784) / 255."
   ]
  },
  {
   "cell_type": "code",
   "execution_count": 3,
   "metadata": {},
   "outputs": [
    {
     "data": {
      "application/vnd.jupyter.widget-view+json": {
       "model_id": "9075865057fc40ff816d6d59f778362a",
       "version_major": 2,
       "version_minor": 0
      },
      "text/plain": [
       "HBox(children=(FloatProgress(value=0.0, max=2500.0), HTML(value='')))"
      ]
     },
     "metadata": {},
     "output_type": "display_data"
    },
    {
     "name": "stdout",
     "output_type": "stream",
     "text": [
      "\n",
      "CPU times: user 5min 25s, sys: 7.02 s, total: 5min 32s\n",
      "Wall time: 55.5 s\n"
     ]
    }
   ],
   "source": [
    "%%time\n",
    "model = Sequential(\n",
    "    Linear(784, 150, True),\n",
    "    Leakyrelu(),\n",
    "    Linear(150, 100, True),\n",
    "    Leakyrelu(),\n",
    "    Linear(100, 10, True),\n",
    "    Softmax()\n",
    ")\n",
    "\n",
    "optimizer = Adam(model.parameters())\n",
    "losses = []\n",
    "loss_fn = CrossEntropyLoss()\n",
    "\n",
    "for i in tqdm(range(2500)):\n",
    "    batch_idx = np.random.choice(X_train.shape[0], 500, replace=False)\n",
    "    X_batch = X_train_t[batch_idx]\n",
    "    y_batch = y_train[batch_idx]\n",
    "    pred = model(X_batch)\n",
    "    loss = loss_fn(pred, y_batch)\n",
    "    loss.backward()\n",
    "    optimizer.step()\n",
    "    losses.append(loss.obj)"
   ]
  },
  {
   "cell_type": "code",
   "execution_count": 4,
   "metadata": {
    "scrolled": false
   },
   "outputs": [
    {
     "data": {
      "image/png": "[encoded data removed]",
      "text/plain": [
       "<Figure size 432x288 with 1 Axes>"
      ]
     },
     "metadata": {
      "needs_background": "light"
     },
     "output_type": "display_data"
    }
   ],
   "source": [
    "plt.plot(losses)\n",
    "plt.show()"
   ]
  },
  {
   "cell_type": "code",
   "execution_count": 5,
   "metadata": {},
   "outputs": [
    {
     "name": "stdout",
     "output_type": "stream",
     "text": [
      "0.9535833333333333 0.9398\n"
     ]
    }
   ],
   "source": [
    "train_accuracy = np.mean(np.argmax(model(X_train_t), axis = 1) == y_train)\n",
    "test_accuracy = np.mean(np.argmax(model(X_test_t), axis = 1) == y_test)\n",
    "print(train_accuracy, test_accuracy)"
   ]
  },
  {
   "cell_type": "code",
   "execution_count": null,
   "metadata": {},
   "outputs": [],
   "source": []
  }
 ],
 "metadata": {
  "kernelspec": {
   "display_name": "Python 3",
   "language": "python",
   "name": "python3"
  },
  "language_info": {
   "codemirror_mode": {
    "name": "ipython",
    "version": 3
   },
   "file_extension": ".py",
   "mimetype": "text/x-python",
   "name": "python",
   "nbconvert_exporter": "python",
   "pygments_lexer": "ipython3",
   "version": "3.7.3"
  }
 },
 "nbformat": 4,
 "nbformat_minor": 2
}
